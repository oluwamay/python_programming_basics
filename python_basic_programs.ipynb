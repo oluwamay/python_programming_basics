{
 "cells": [
  {
   "cell_type": "code",
   "execution_count": 6,
   "metadata": {
    "scrolled": true
   },
   "outputs": [
    {
     "name": "stdout",
     "output_type": "stream",
     "text": [
      "48.425200051213004\n",
      "5.59768610370137\n",
      "100\n",
      "14 29 44 59\n",
      "[29, 32, 35, 38, 41, 44, 47, 50, 53, 56, 59, 62, 65, 68, 71, 74, 77, 80, 83, 86]\n",
      "  CHR     POS       dbSNP REF ALT  QUAL    GENE             ENST  MutantReads  \\\n",
      "0   1   69270           .   A   G    16   OR4F5  ENST00000335137            3   \n",
      "1   1   69511  rs75062661   A   G   200   OR4F5  ENST00000335137           24   \n",
      "2   1   69761           .   A   T   200   OR4F5  ENST00000335137            8   \n",
      "3   1   69897  rs75758884   T   C    59   OR4F5  ENST00000335137            3   \n",
      "4   1  877831   rs6672356   T   C   200  SAMD11  ENST00000342066           10   \n",
      "\n",
      "   COVERAGE  MutantReadPercent  \n",
      "0         4                 75  \n",
      "1        27                 88  \n",
      "2         8                100  \n",
      "3         3                100  \n",
      "4        11                 90  \n",
      "59.882193478429244\n",
      "     sepallength  sepalwidth  petallength  petalwidth           class\n",
      "100          6.3         3.3          6.0         2.5  Iris-virginica\n",
      "101          5.8         2.7          5.1         1.9  Iris-virginica\n",
      "102          7.1         3.0          5.9         2.1  Iris-virginica\n",
      "103          6.3         2.9          5.6         1.8  Iris-virginica\n",
      "104          6.5         3.0          5.8         2.2  Iris-virginica\n",
      "105          7.6         3.0          6.6         2.1  Iris-virginica\n",
      "106          4.9         2.5          4.5         1.7  Iris-virginica\n",
      "107          7.3         2.9          6.3         1.8  Iris-virginica\n",
      "108          6.7         2.5          5.8         1.8  Iris-virginica\n",
      "109          7.2         3.6          6.1         2.5  Iris-virginica\n",
      "110          6.5         3.2          5.1         2.0  Iris-virginica\n",
      "111          6.4         2.7          5.3         1.9  Iris-virginica\n",
      "112          6.8         3.0          5.5         2.1  Iris-virginica\n",
      "113          5.7         2.5          5.0         2.0  Iris-virginica\n",
      "114          5.8         2.8          5.1         2.4  Iris-virginica\n",
      "115          6.4         3.2          5.3         2.3  Iris-virginica\n",
      "116          6.5         3.0          5.5         1.8  Iris-virginica\n",
      "117          7.7         3.8          6.7         2.2  Iris-virginica\n",
      "118          7.7         2.6          6.9         2.3  Iris-virginica\n",
      "119          6.0         2.2          5.0         1.5  Iris-virginica\n",
      "120          6.9         3.2          5.7         2.3  Iris-virginica\n",
      "121          5.6         2.8          4.9         2.0  Iris-virginica\n",
      "122          7.7         2.8          6.7         2.0  Iris-virginica\n",
      "123          6.3         2.7          4.9         1.8  Iris-virginica\n",
      "124          6.7         3.3          5.7         2.1  Iris-virginica\n",
      "125          7.2         3.2          6.0         1.8  Iris-virginica\n",
      "126          6.2         2.8          4.8         1.8  Iris-virginica\n",
      "127          6.1         3.0          4.9         1.8  Iris-virginica\n",
      "128          6.4         2.8          5.6         2.1  Iris-virginica\n",
      "129          7.2         3.0          5.8         1.6  Iris-virginica\n",
      "130          7.4         2.8          6.1         1.9  Iris-virginica\n",
      "131          7.9         3.8          6.4         2.0  Iris-virginica\n",
      "132          6.4         2.8          5.6         2.2  Iris-virginica\n",
      "133          6.3         2.8          5.1         1.5  Iris-virginica\n",
      "134          6.1         2.6          5.6         1.4  Iris-virginica\n",
      "135          7.7         3.0          6.1         2.3  Iris-virginica\n",
      "136          6.3         3.4          5.6         2.4  Iris-virginica\n",
      "137          6.4         3.1          5.5         1.8  Iris-virginica\n",
      "138          6.0         3.0          4.8         1.8  Iris-virginica\n",
      "139          6.9         3.1          5.4         2.1  Iris-virginica\n",
      "140          6.7         3.1          5.6         2.4  Iris-virginica\n",
      "141          6.9         3.1          5.1         2.3  Iris-virginica\n",
      "142          5.8         2.7          5.1         1.9  Iris-virginica\n",
      "143          6.8         3.2          5.9         2.3  Iris-virginica\n",
      "144          6.7         3.3          5.7         2.5  Iris-virginica\n",
      "145          6.7         3.0          5.2         2.3  Iris-virginica\n",
      "146          6.3         2.5          5.0         1.9  Iris-virginica\n",
      "147          6.5         3.0          5.2         2.0  Iris-virginica\n",
      "148          6.2         3.4          5.4         2.3  Iris-virginica\n",
      "149          5.9         3.0          5.1         1.8  Iris-virginica\n"
     ]
    },
    {
     "ename": "AttributeError",
     "evalue": "module 'matplotlib.pyplot' has no attribute 'save_fig'",
     "output_type": "error",
     "traceback": [
      "\u001b[1;31m---------------------------------------------------------------------------\u001b[0m",
      "\u001b[1;31mAttributeError\u001b[0m                            Traceback (most recent call last)",
      "\u001b[1;32m<ipython-input-6-fccb6abb425e>\u001b[0m in \u001b[0;36m<module>\u001b[1;34m\u001b[0m\n\u001b[0;32m     71\u001b[0m \u001b[0mplt\u001b[0m\u001b[1;33m.\u001b[0m\u001b[0mylabel\u001b[0m\u001b[1;33m(\u001b[0m\u001b[1;34m\"Values\"\u001b[0m\u001b[1;33m)\u001b[0m\u001b[1;33m\u001b[0m\u001b[1;33m\u001b[0m\u001b[0m\n\u001b[0;32m     72\u001b[0m \u001b[0mplt\u001b[0m\u001b[1;33m.\u001b[0m\u001b[0mtitle\u001b[0m\u001b[1;33m(\u001b[0m\u001b[1;34m\"IRISH FLOWER BAR PLOT\"\u001b[0m\u001b[1;33m)\u001b[0m\u001b[1;33m\u001b[0m\u001b[1;33m\u001b[0m\u001b[0m\n\u001b[1;32m---> 73\u001b[1;33m \u001b[0mplt\u001b[0m\u001b[1;33m.\u001b[0m\u001b[0msave_fig\u001b[0m\u001b[1;33m(\u001b[0m\u001b[1;34m'irish plot.png'\u001b[0m\u001b[1;33m,\u001b[0m \u001b[0mdpi\u001b[0m\u001b[1;33m=\u001b[0m\u001b[1;36m200\u001b[0m\u001b[1;33m)\u001b[0m\u001b[1;33m\u001b[0m\u001b[1;33m\u001b[0m\u001b[0m\n\u001b[0m\u001b[0;32m     74\u001b[0m \u001b[0mplt\u001b[0m\u001b[1;33m.\u001b[0m\u001b[0mshow\u001b[0m\u001b[1;33m(\u001b[0m\u001b[1;33m)\u001b[0m\u001b[1;33m\u001b[0m\u001b[1;33m\u001b[0m\u001b[0m\n",
      "\u001b[1;31mAttributeError\u001b[0m: module 'matplotlib.pyplot' has no attribute 'save_fig'"
     ]
    },
    {
     "data": {
      "image/png": "[encoded data removed]",
      "text/plain": [
       "<Figure size 648x432 with 1 Axes>"
      ]
     },
     "metadata": {
      "needs_background": "light"
     },
     "output_type": "display_data"
    }
   ],
   "source": [
    "31 * 78 #multiply int values\n",
    "697 / 41 #divide int values\n",
    "56765 - 23 #subtract int values\n",
    "#variable assignment\n",
    "x = 39\n",
    "y = 14\n",
    "z = x - y\n",
    "\n",
    "#math function\n",
    "import math\n",
    "a = math.sqrt(2345)\n",
    "print(a)\n",
    "b = math.log2(a)\n",
    "print(b)\n",
    "\n",
    "#Lists\n",
    "vec1 = [2, 5, 8, 12, 16]\n",
    "vec2 = list(range(2, 300, 3))\n",
    "print(len(vec2))\n",
    "print(vec2[4], vec2[9], vec2[14], vec2[19])\n",
    "print(vec2[9:29])\n",
    "\n",
    "#import libraries for data science\n",
    "import numpy as np\n",
    "import pandas as pd\n",
    "#Creating numpy arrays\n",
    "mouse_colour = np.array(['purple','red','yellow','brown'])\n",
    "mouse_weight = np.array([23, 21, 18, 16])\n",
    "\n",
    "#merge two arrays to give a matrix\n",
    "mouse_inf = np.vstack([mouse_colour, mouse_weight])\n",
    "mouse_inf\n",
    "\n",
    "#convert numpy to pandas dataframe\n",
    "mouse_info = pd.DataFrame({'colour': mouse_inf[0,:], 'weight': mouse_inf[1,:]})\n",
    "mouse_info\n",
    "\n",
    "#Read files\n",
    "small_file = pd.read_csv('https://raw.githubusercontent.com/HackBio-Internship/public_datasets/main/R/small_file.txt', delimiter = '\\t')\n",
    "small_file\n",
    "child_variant = pd.read_csv('https://github.com/HackBio-Internship/public_datasets/blob/main/R/Child_Variants.csv?raw=true')\n",
    "child_variant\n",
    "print(child_variant.head())\n",
    "\n",
    "#mean of values in column MutantReadPercent of child_variant\n",
    "print(child_variant['MutantReadPercent'].mean())\n",
    "\n",
    "#filter data\n",
    "filtered_MRP = child_variant.loc[child_variant['MutantReadPercent'] >= 70]\n",
    "filtered_MRP\n",
    "\n",
    "#import the famous irish dataframe\n",
    "irish_df = pd.read_csv('https://datahub.io/machine-learning/iris/r/iris.csv')\n",
    "irish_df\n",
    "\n",
    "print(irish_df.loc[irish_df['class'] == 'Iris-virginica']) #prints dataframe for iris-virginica\n",
    "\n",
    "#libraries for plots\n",
    "import matplotlib.pyplot as plt\n",
    "import seaborn as sns\n",
    "\n",
    "#resize plot\n",
    "plt.figure(figsize=(9,6))\n",
    "\n",
    "#rearrange irish_df\n",
    "irish_dff = pd.melt(irish_df, id_vars=\"class\")\n",
    "irish_dff\n",
    "#plot group barchat\n",
    "sns.barplot(x = 'class', y = 'value',  data = irish_dff, hue = 'variable')\n",
    "plt.xlabel(\"Class\")\n",
    "plt.ylabel(\"Values\")\n",
    "plt.title(\"IRISH FLOWER BAR PLOT\") \n",
    "plt.savefig('irish plot.png', dpi=200)\n",
    "plt.show()\n"
   ]
  },
  {
   "cell_type": "code",
   "execution_count": 7,
   "metadata": {},
   "outputs": [
    {
     "data": {
      "image/png": "[encoded data removed]",
      "text/plain": [
       "<Figure size 648x432 with 1 Axes>"
      ]
     },
     "metadata": {
      "needs_background": "light"
     },
     "output_type": "display_data"
    }
   ],
   "source": [
    "#resize plot\n",
    "plt.figure(figsize=(9,6))\n",
    "\n",
    "#rearrange irish_df\n",
    "irish_dff = pd.melt(irish_df, id_vars=\"class\")\n",
    "irish_dff\n",
    "#plot group barchat\n",
    "sns.barplot(x = 'class', y = 'value',  data = irish_dff, hue = 'variable')\n",
    "plt.xlabel(\"Class\")\n",
    "plt.ylabel(\"Values\")\n",
    "plt.title(\"IRISH FLOWER BAR PLOT\") \n",
    "plt.savefig('irish plot.png', dpi=200)\n",
    "plt.show()"
   ]
  }
 ],
 "metadata": {
  "kernelspec": {
   "display_name": "Python 3",
   "language": "python",
   "name": "python3"
  },
  "language_info": {
   "codemirror_mode": {
    "name": "ipython",
    "version": 3
   },
   "file_extension": ".py",
   "mimetype": "text/x-python",
   "name": "python",
   "nbconvert_exporter": "python",
   "pygments_lexer": "ipython3",
   "version": "3.8.3"
  }
 },
 "nbformat": 4,
 "nbformat_minor": 4
}
